{
 "cells": [
  {
   "cell_type": "markdown",
   "id": "de820d21-c28f-4ac2-95b8-9d257ecbff28",
   "metadata": {},
   "source": [
    "# Value counts:\n",
    "- To count how many times the value occurs\n"
   ]
  },
  {
   "cell_type": "code",
   "execution_count": 7,
   "id": "78024d33-3683-410a-8994-7fc843363f7b",
   "metadata": {},
   "outputs": [
    {
     "name": "stdout",
     "output_type": "stream",
     "text": [
      "   S.No   A  B   C   D   E  Length\n",
      "0     1   2  1   5   3   4      45\n",
      "1     2   4  3  10   6   8      43\n",
      "2     3   6  5  15   9  12      66\n",
      "3     4   8  7  20  12  16      78\n",
      "4     5  10  9  25  15  20      32\n"
     ]
    }
   ],
   "source": [
    "import pandas as pd\n",
    "path = \"D:/tutedude/Data Analysis/CSV/numeric.csv\"\n",
    "df = pd.read_csv(path)\n",
    "print(df)"
   ]
  },
  {
   "cell_type": "code",
   "execution_count": 9,
   "id": "2636f079-08ed-4673-b673-0c2350525ae8",
   "metadata": {},
   "outputs": [
    {
     "data": {
      "text/plain": [
       "Length\n",
       "45    1\n",
       "43    1\n",
       "66    1\n",
       "78    1\n",
       "32    1\n",
       "Name: count, dtype: int64"
      ]
     },
     "execution_count": 9,
     "metadata": {},
     "output_type": "execute_result"
    }
   ],
   "source": [
    "index = pd.Index(df[\"Length\"])\n",
    "index.value_counts()"
   ]
  },
  {
   "cell_type": "code",
   "execution_count": null,
   "id": "31b9fdaf-876b-4207-873e-39b1c3b56941",
   "metadata": {},
   "outputs": [],
   "source": []
  }
 ],
 "metadata": {
  "kernelspec": {
   "display_name": "Python [conda env:base] *",
   "language": "python",
   "name": "conda-base-py"
  },
  "language_info": {
   "codemirror_mode": {
    "name": "ipython",
    "version": 3
   },
   "file_extension": ".py",
   "mimetype": "text/x-python",
   "name": "python",
   "nbconvert_exporter": "python",
   "pygments_lexer": "ipython3",
   "version": "3.12.7"
  }
 },
 "nbformat": 4,
 "nbformat_minor": 5
}
